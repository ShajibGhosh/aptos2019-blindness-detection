{
 "cells": [
  {
   "cell_type": "code",
   "execution_count": 1,
   "metadata": {},
   "outputs": [],
   "source": [
    "%matplotlib inline"
   ]
  },
  {
   "cell_type": "code",
   "execution_count": 1,
   "metadata": {},
   "outputs": [],
   "source": [
    "from scipy.stats import logistic\n",
    "import numpy as np\n",
    "import matplotlib.pyplot as plt\n",
    "\n",
    "from aptos.model import rolloff, sin_decay"
   ]
  },
  {
   "cell_type": "markdown",
   "metadata": {},
   "source": [
    "## Warmup / Rolloff"
   ]
  },
  {
   "cell_type": "code",
   "execution_count": 2,
   "metadata": {},
   "outputs": [],
   "source": [
    "def rolloff(length, loc_factor=0.5, scale_factor=0.1, magnitude=1, offset=0):\n",
    "    \"\"\"\n",
    "    Produces a rolloff function over a given length. Imagine 1 - sigmoid(x).\n",
    "    \"\"\"\n",
    "    loc = length * loc_factor\n",
    "    scale = length * scale_factor\n",
    "    rolloff = np.array([logistic.sf(x, loc, scale) for x in range(length)])\n",
    "    rolloff *= magnitude\n",
    "    rolloff += offset\n",
    "    return rolloff"
   ]
  },
  {
   "cell_type": "code",
   "execution_count": 25,
   "metadata": {},
   "outputs": [],
   "source": [
    "length = 50\n",
    "loc_factor = 0.3\n",
    "scale_factor = 0.15\n",
    "magnitude = 1"
   ]
  },
  {
   "cell_type": "code",
   "execution_count": 26,
   "metadata": {},
   "outputs": [
    {
     "data": {
      "text/plain": [
       "array([0.88079708, 0.86607211, 0.84983829, 0.83201839, 0.81255021,\n",
       "       0.79139147, 0.76852478, 0.74396249, 0.71775106, 0.68997448,\n",
       "       0.66075637, 0.63026022, 0.59868766, 0.56627439, 0.53328404,\n",
       "       0.5       , 0.46671596, 0.43372561, 0.40131234, 0.36973978,\n",
       "       0.33924363, 0.31002552, 0.28224894, 0.25603751, 0.23147522,\n",
       "       0.20860853, 0.18744979, 0.16798161, 0.15016171, 0.13392789,\n",
       "       0.11920292, 0.10589896, 0.0939215 , 0.0831727 , 0.07355418,\n",
       "       0.06496917, 0.05732418, 0.05053016, 0.04450336, 0.03916572,\n",
       "       0.0344452 , 0.03027569, 0.02659699, 0.02335452, 0.02049901,\n",
       "       0.01798621, 0.01577647, 0.01383439, 0.01212843, 0.01063058])"
      ]
     },
     "execution_count": 26,
     "metadata": {},
     "output_type": "execute_result"
    }
   ],
   "source": [
    "lrs = rolloff(length, loc_factor, scale_factor, magnitude)\n",
    "lrs"
   ]
  },
  {
   "cell_type": "code",
   "execution_count": 27,
   "metadata": {},
   "outputs": [
    {
     "data": {
      "text/plain": [
       "[<matplotlib.lines.Line2D at 0x7fb4d26cc1d0>]"
      ]
     },
     "execution_count": 27,
     "metadata": {},
     "output_type": "execute_result"
    },
    {
     "data": {
      "image/png": "[encoded data removed]",
      "text/plain": [
       "<Figure size 432x288 with 1 Axes>"
      ]
     },
     "metadata": {
      "needs_background": "light"
     },
     "output_type": "display_data"
    }
   ],
   "source": [
    "plt.plot(lrs)"
   ]
  },
  {
   "cell_type": "markdown",
   "metadata": {},
   "source": [
    "## Decaying sinusoid"
   ]
  },
  {
   "cell_type": "code",
   "execution_count": 7,
   "metadata": {},
   "outputs": [],
   "source": [
    "offset = 0.5\n",
    "amplitude = 3\n",
    "n_periods = 3.75\n",
    "n_epochs = 100\n",
    "gamma = 0.97"
   ]
  },
  {
   "cell_type": "code",
   "execution_count": 8,
   "metadata": {},
   "outputs": [],
   "source": [
    "sin = sin_decay(offset, amplitude, n_periods, n_epochs, gamma)"
   ]
  },
  {
   "cell_type": "code",
   "execution_count": 9,
   "metadata": {},
   "outputs": [
    {
     "data": {
      "text/plain": [
       "[<matplotlib.lines.Line2D at 0x7ff5616acf98>]"
      ]
     },
     "execution_count": 9,
     "metadata": {},
     "output_type": "execute_result"
    },
    {
     "data": {
      "image/png": "[encoded data removed]",
      "text/plain": [
       "<Figure size 432x288 with 1 Axes>"
      ]
     },
     "metadata": {
      "needs_background": "light"
     },
     "output_type": "display_data"
    }
   ],
   "source": [
    "plt.plot(sin)"
   ]
  },
  {
   "cell_type": "code",
   "execution_count": null,
   "metadata": {},
   "outputs": [],
   "source": []
  }
 ],
 "metadata": {
  "kernelspec": {
   "display_name": "Python 3",
   "language": "python",
   "name": "python3"
  },
  "language_info": {
   "codemirror_mode": {
    "name": "ipython",
    "version": 3
   },
   "file_extension": ".py",
   "mimetype": "text/x-python",
   "name": "python",
   "nbconvert_exporter": "python",
   "pygments_lexer": "ipython3",
   "version": "3.6.7"
  }
 },
 "nbformat": 4,
 "nbformat_minor": 2
}
