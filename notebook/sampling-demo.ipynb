{
 "cells": [
  {
   "cell_type": "code",
   "execution_count": 35,
   "metadata": {},
   "outputs": [],
   "source": [
    "import pandas as pd\n",
    "import numpy as np\n",
    "import matplotlib.pyplot as plt\n",
    "import seaborn as sns\n",
    "\n",
    "from aptos.data_loader import SamplerFactory"
   ]
  },
  {
   "cell_type": "code",
   "execution_count": 3,
   "metadata": {},
   "outputs": [
    {
     "data": {
      "text/html": [
       "<div>\n",
       "<style scoped>\n",
       "    .dataframe tbody tr th:only-of-type {\n",
       "        vertical-align: middle;\n",
       "    }\n",
       "\n",
       "    .dataframe tbody tr th {\n",
       "        vertical-align: top;\n",
       "    }\n",
       "\n",
       "    .dataframe thead th {\n",
       "        text-align: right;\n",
       "    }\n",
       "</style>\n",
       "<table border=\"1\" class=\"dataframe\">\n",
       "  <thead>\n",
       "    <tr style=\"text-align: right;\">\n",
       "      <th></th>\n",
       "      <th>id_code</th>\n",
       "      <th>diagnosis</th>\n",
       "    </tr>\n",
       "  </thead>\n",
       "  <tbody>\n",
       "    <tr>\n",
       "      <td>0</td>\n",
       "      <td>000c1434d8d7</td>\n",
       "      <td>2</td>\n",
       "    </tr>\n",
       "    <tr>\n",
       "      <td>1</td>\n",
       "      <td>001639a390f0</td>\n",
       "      <td>4</td>\n",
       "    </tr>\n",
       "    <tr>\n",
       "      <td>2</td>\n",
       "      <td>0024cdab0c1e</td>\n",
       "      <td>1</td>\n",
       "    </tr>\n",
       "    <tr>\n",
       "      <td>3</td>\n",
       "      <td>002c21358ce6</td>\n",
       "      <td>0</td>\n",
       "    </tr>\n",
       "    <tr>\n",
       "      <td>4</td>\n",
       "      <td>005b95c28852</td>\n",
       "      <td>0</td>\n",
       "    </tr>\n",
       "  </tbody>\n",
       "</table>\n",
       "</div>"
      ],
      "text/plain": [
       "        id_code  diagnosis\n",
       "0  000c1434d8d7          2\n",
       "1  001639a390f0          4\n",
       "2  0024cdab0c1e          1\n",
       "3  002c21358ce6          0\n",
       "4  005b95c28852          0"
      ]
     },
     "execution_count": 3,
     "metadata": {},
     "output_type": "execute_result"
    }
   ],
   "source": [
    "df = pd.read_csv('../data/preprocessed/train.csv')\n",
    "df.head()"
   ]
  },
  {
   "cell_type": "code",
   "execution_count": 12,
   "metadata": {},
   "outputs": [],
   "source": [
    "candidate_idx = df.index.values\n",
    "batch_size = 32\n",
    "n_batches = 5\n",
    "alpha = 0.5\n",
    "sampler = SamplerFactory().get(df, candidate_idx, batch_size, n_batches, alpha)"
   ]
  },
  {
   "cell_type": "code",
   "execution_count": 17,
   "metadata": {},
   "outputs": [],
   "source": [
    "def class_of_idx(idx):\n",
    "    return df['diagnosis'][idx]\n",
    "\n",
    "def class_of_idxs(idxs):\n",
    "    return [class_of_idx(idx) for idx in idxs]\n",
    "\n",
    "def class_counts(classes):\n",
    "    return {c: classes.count(c) for c in range(5)}"
   ]
  },
  {
   "cell_type": "code",
   "execution_count": 19,
   "metadata": {},
   "outputs": [
    {
     "name": "stdout",
     "output_type": "stream",
     "text": [
      "[0, 0, 2, 0, 3, 1, 1, 0, 1, 0, 0, 3, 3, 3, 4, 2, 1, 2, 4, 0, 4, 2, 0, 2, 2, 2, 0, 0, 0, 4, 1, 2] {0: 11, 1: 5, 2: 8, 3: 4, 4: 4}\n",
      "[0, 1, 0, 3, 4, 2, 2, 0, 3, 0, 0, 4, 1, 2, 1, 1, 4, 2, 1, 2, 3, 0, 2, 4, 2, 0, 0, 0, 0, 0, 2, 3] {0: 11, 1: 5, 2: 8, 3: 4, 4: 4}\n",
      "[2, 4, 1, 0, 0, 0, 2, 2, 2, 0, 2, 3, 0, 0, 1, 4, 4, 0, 3, 2, 2, 4, 0, 1, 0, 0, 1, 0, 3, 3, 1, 2] {0: 11, 1: 5, 2: 8, 3: 4, 4: 4}\n",
      "[4, 0, 1, 4, 2, 3, 2, 3, 2, 0, 2, 3, 2, 0, 0, 1, 0, 1, 0, 1, 2, 0, 1, 0, 2, 4, 0, 4, 3, 2, 0, 0] {0: 11, 1: 5, 2: 8, 3: 4, 4: 4}\n",
      "[0, 0, 1, 0, 2, 2, 0, 1, 1, 4, 3, 3, 0, 0, 3, 0, 0, 1, 2, 2, 4, 0, 4, 4, 2, 2, 0, 0, 2, 2, 1, 3] {0: 11, 1: 5, 2: 8, 3: 4, 4: 4}\n"
     ]
    }
   ],
   "source": [
    "for idxs in sampler:\n",
    "    classes = class_of_idxs(idxs)\n",
    "    print(classes, class_counts(classes))"
   ]
  },
  {
   "cell_type": "code",
   "execution_count": 55,
   "metadata": {},
   "outputs": [
    {
     "data": {
      "image/png": "[encoded data removed]",
      "text/plain": [
       "<Figure size 1440x360 with 5 Axes>"
      ]
     },
     "metadata": {
      "needs_background": "light"
     },
     "output_type": "display_data"
    }
   ],
   "source": [
    "batch_size = 100\n",
    "n_batches = 5\n",
    "alphas = [0, 0.2, 0.5, 0.8, 1]\n",
    "\n",
    "fig, axs = plt.subplots(1, len(alphas), figsize=(20, 5))\n",
    "\n",
    "for i, alpha in enumerate(alphas):\n",
    "    sampler = SamplerFactory().get(df, candidate_idx, batch_size, n_batches, alpha)\n",
    "\n",
    "    for idxs in sampler:\n",
    "        classes = class_of_idxs(idxs)\n",
    "        counts = class_counts(classes)\n",
    "        break\n",
    "\n",
    "    df_dist = pd.DataFrame({\n",
    "        'class': list(range(5)), \n",
    "        'proportion': [counts[c] / batch_size for c in range(5)]\n",
    "    }).set_index('class')\n",
    "\n",
    "    df_dist.plot(kind='bar', ax=axs[i])\n",
    "    axs[i].set_title(f'alpha: {alpha}')\n",
    "    axs[i].set_ylim(0, 0.6)\n",
    "\n",
    "plt.savefig('../resources/sample-distributions-20190-data.png')\n",
    "plt.show()"
   ]
  },
  {
   "cell_type": "code",
   "execution_count": null,
   "metadata": {},
   "outputs": [],
   "source": []
  }
 ],
 "metadata": {
  "kernelspec": {
   "display_name": "Python 3",
   "language": "python",
   "name": "python3"
  },
  "language_info": {
   "codemirror_mode": {
    "name": "ipython",
    "version": 3
   },
   "file_extension": ".py",
   "mimetype": "text/x-python",
   "name": "python",
   "nbconvert_exporter": "python",
   "pygments_lexer": "ipython3",
   "version": "3.6.7"
  }
 },
 "nbformat": 4,
 "nbformat_minor": 2
}
