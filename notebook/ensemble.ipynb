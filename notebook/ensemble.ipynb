{
 "cells": [
  {
   "cell_type": "code",
   "execution_count": 1,
   "metadata": {},
   "outputs": [],
   "source": [
    "import pandas as pd\n",
    "import numpy as np"
   ]
  },
  {
   "cell_type": "code",
   "execution_count": 2,
   "metadata": {},
   "outputs": [],
   "source": [
    "def ensemble(df_bencrop, df_karl, df_tight, df_fastai):\n",
    "    w_bencrop = 0.8\n",
    "    w_karl = 1.0\n",
    "    w_tight = 0.8\n",
    "    w_fastai = 1.4\n",
    "    \n",
    "    df_ensemble = pd.DataFrame({'id_code': df_bencrop.index})\n",
    "    df_ensemble['bencrop'] = df_bencrop['mean']\n",
    "    df_ensemble['karl']    = df_karl['mean']\n",
    "    df_ensemble['tight']   = df_tight['mean']\n",
    "    df_ensemble['fastai']  = df_fastai['mean']\n",
    "    \n",
    "    df_ensemble['numer'] = (\n",
    "        df_ensemble['bencrop'] * w_bencrop + \n",
    "        df_ensemble['karl']    * w_karl + \n",
    "        df_ensemble['tight']   * w_tight + \n",
    "        df_ensemble['fastai']  * w_fastai\n",
    "    )\n",
    "    df_ensemble['denom'] = sum([w_bencrop, w_karl, w_tight, w_fastai])\n",
    "    df_ensemble['smoothed'] = df_ensemble['numer'] / df_ensemble['denom']\n",
    "    df_ensemble['diagnosis'] = df_ensemble['smoothed'].apply(lambda x: int(round(x)))\n",
    "    df_ensemble.set_index('id_code', inplace=True)\n",
    "    return df_ensemble"
   ]
  },
  {
   "cell_type": "code",
   "execution_count": 3,
   "metadata": {},
   "outputs": [],
   "source": [
    "def random_df():\n",
    "    ids = list(range(10))\n",
    "    df = pd.DataFrame({'id_code': ids})\n",
    "    df['mean'] = np.random.rand(len(ids)) * 4\n",
    "    df.set_index('id_code', inplace=True)\n",
    "    return df"
   ]
  },
  {
   "cell_type": "code",
   "execution_count": 4,
   "metadata": {},
   "outputs": [
    {
     "name": "stdout",
     "output_type": "stream",
     "text": [
      "             mean\n",
      "id_code          \n",
      "0        0.206478\n",
      "1        3.253051\n",
      "2        3.088194\n",
      "3        3.842424\n",
      "4        1.617002\n",
      "             mean\n",
      "id_code          \n",
      "0        3.153421\n",
      "1        2.664771\n",
      "2        3.473878\n",
      "3        0.078082\n",
      "4        2.450505\n",
      "             mean\n",
      "id_code          \n",
      "0        2.381474\n",
      "1        1.510011\n",
      "2        2.390621\n",
      "3        0.308731\n",
      "4        3.340515\n",
      "             mean\n",
      "id_code          \n",
      "0        0.281673\n",
      "1        1.350772\n",
      "2        3.500995\n",
      "3        3.092091\n",
      "4        3.018124\n"
     ]
    }
   ],
   "source": [
    "df_bencrop, df_karl, df_tight, df_fastai = random_df(), random_df(), random_df(), random_df()\n",
    "print(df_bencrop.head())\n",
    "print(df_karl.head())\n",
    "print(df_tight.head())\n",
    "print(df_fastai.head())"
   ]
  },
  {
   "cell_type": "code",
   "execution_count": 5,
   "metadata": {},
   "outputs": [
    {
     "data": {
      "text/html": [
       "<div>\n",
       "<style scoped>\n",
       "    .dataframe tbody tr th:only-of-type {\n",
       "        vertical-align: middle;\n",
       "    }\n",
       "\n",
       "    .dataframe tbody tr th {\n",
       "        vertical-align: top;\n",
       "    }\n",
       "\n",
       "    .dataframe thead th {\n",
       "        text-align: right;\n",
       "    }\n",
       "</style>\n",
       "<table border=\"1\" class=\"dataframe\">\n",
       "  <thead>\n",
       "    <tr style=\"text-align: right;\">\n",
       "      <th></th>\n",
       "      <th>bencrop</th>\n",
       "      <th>karl</th>\n",
       "      <th>tight</th>\n",
       "      <th>fastai</th>\n",
       "      <th>numer</th>\n",
       "      <th>denom</th>\n",
       "      <th>smoothed</th>\n",
       "      <th>diagnosis</th>\n",
       "    </tr>\n",
       "    <tr>\n",
       "      <th>id_code</th>\n",
       "      <th></th>\n",
       "      <th></th>\n",
       "      <th></th>\n",
       "      <th></th>\n",
       "      <th></th>\n",
       "      <th></th>\n",
       "      <th></th>\n",
       "      <th></th>\n",
       "    </tr>\n",
       "  </thead>\n",
       "  <tbody>\n",
       "    <tr>\n",
       "      <td>0</td>\n",
       "      <td>0.206478</td>\n",
       "      <td>3.153421</td>\n",
       "      <td>2.381474</td>\n",
       "      <td>0.281673</td>\n",
       "      <td>5.618124</td>\n",
       "      <td>4.0</td>\n",
       "      <td>1.404531</td>\n",
       "      <td>1</td>\n",
       "    </tr>\n",
       "    <tr>\n",
       "      <td>1</td>\n",
       "      <td>3.253051</td>\n",
       "      <td>2.664771</td>\n",
       "      <td>1.510011</td>\n",
       "      <td>1.350772</td>\n",
       "      <td>8.366301</td>\n",
       "      <td>4.0</td>\n",
       "      <td>2.091575</td>\n",
       "      <td>2</td>\n",
       "    </tr>\n",
       "    <tr>\n",
       "      <td>2</td>\n",
       "      <td>3.088194</td>\n",
       "      <td>3.473878</td>\n",
       "      <td>2.390621</td>\n",
       "      <td>3.500995</td>\n",
       "      <td>12.758322</td>\n",
       "      <td>4.0</td>\n",
       "      <td>3.189580</td>\n",
       "      <td>3</td>\n",
       "    </tr>\n",
       "    <tr>\n",
       "      <td>3</td>\n",
       "      <td>3.842424</td>\n",
       "      <td>0.078082</td>\n",
       "      <td>0.308731</td>\n",
       "      <td>3.092091</td>\n",
       "      <td>7.727934</td>\n",
       "      <td>4.0</td>\n",
       "      <td>1.931983</td>\n",
       "      <td>2</td>\n",
       "    </tr>\n",
       "    <tr>\n",
       "      <td>4</td>\n",
       "      <td>1.617002</td>\n",
       "      <td>2.450505</td>\n",
       "      <td>3.340515</td>\n",
       "      <td>3.018124</td>\n",
       "      <td>10.641892</td>\n",
       "      <td>4.0</td>\n",
       "      <td>2.660473</td>\n",
       "      <td>3</td>\n",
       "    </tr>\n",
       "  </tbody>\n",
       "</table>\n",
       "</div>"
      ],
      "text/plain": [
       "          bencrop      karl     tight    fastai      numer  denom  smoothed  \\\n",
       "id_code                                                                       \n",
       "0        0.206478  3.153421  2.381474  0.281673   5.618124    4.0  1.404531   \n",
       "1        3.253051  2.664771  1.510011  1.350772   8.366301    4.0  2.091575   \n",
       "2        3.088194  3.473878  2.390621  3.500995  12.758322    4.0  3.189580   \n",
       "3        3.842424  0.078082  0.308731  3.092091   7.727934    4.0  1.931983   \n",
       "4        1.617002  2.450505  3.340515  3.018124  10.641892    4.0  2.660473   \n",
       "\n",
       "         diagnosis  \n",
       "id_code             \n",
       "0                1  \n",
       "1                2  \n",
       "2                3  \n",
       "3                2  \n",
       "4                3  "
      ]
     },
     "execution_count": 5,
     "metadata": {},
     "output_type": "execute_result"
    }
   ],
   "source": [
    "df_ensemble = ensemble(df_bencrop, df_karl, df_tight, df_fastai)\n",
    "df_ensemble.head()"
   ]
  },
  {
   "cell_type": "code",
   "execution_count": 28,
   "metadata": {},
   "outputs": [
    {
     "data": {
      "text/plain": [
       "7.707037400000001"
      ]
     },
     "execution_count": 28,
     "metadata": {},
     "output_type": "execute_result"
    }
   ],
   "source": [
    "0.8 * 2.411938 + 3.689619 + 0.8 * 2.514166 + 1.4 * 0.054668"
   ]
  },
  {
   "cell_type": "code",
   "execution_count": null,
   "metadata": {},
   "outputs": [],
   "source": [
    "7.707037"
   ]
  }
 ],
 "metadata": {
  "kernelspec": {
   "display_name": "Python 3",
   "language": "python",
   "name": "python3"
  },
  "language_info": {
   "codemirror_mode": {
    "name": "ipython",
    "version": 3
   },
   "file_extension": ".py",
   "mimetype": "text/x-python",
   "name": "python",
   "nbconvert_exporter": "python",
   "pygments_lexer": "ipython3",
   "version": "3.6.7"
  }
 },
 "nbformat": 4,
 "nbformat_minor": 2
}
