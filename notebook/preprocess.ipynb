{
 "cells": [
  {
   "cell_type": "code",
   "execution_count": 1,
   "metadata": {},
   "outputs": [],
   "source": [
    "%load_ext autoreload\n",
    "%autoreload 2\n",
    "%matplotlib inline"
   ]
  },
  {
   "cell_type": "code",
   "execution_count": 2,
   "metadata": {},
   "outputs": [],
   "source": [
    "from pathlib import Path\n",
    "from PIL import Image\n",
    "import pandas as pd\n",
    "import numpy as np\n",
    "import matplotlib.pyplot as plt\n",
    "from tqdm import tqdm\n",
    "import cv2\n",
    "import math\n",
    "from concurrent.futures import ThreadPoolExecutor, as_completed\n",
    "import shutil\n",
    "import torchvision.transforms as T\n",
    "\n",
    "from aptos.data_loader import ImgProcessor"
   ]
  },
  {
   "cell_type": "markdown",
   "metadata": {},
   "source": [
    "## PreProcess Images"
   ]
  },
  {
   "cell_type": "code",
   "execution_count": 3,
   "metadata": {},
   "outputs": [],
   "source": [
    "DATA_DIR = Path('../data/raw')\n",
    "TRAIN_DIR = DATA_DIR / 'train_images'\n",
    "TEST_DIR  = DATA_DIR / 'test_images'\n",
    "NWORKERS = 4"
   ]
  },
  {
   "cell_type": "code",
   "execution_count": 4,
   "metadata": {},
   "outputs": [
    {
     "name": "stdout",
     "output_type": "stream",
     "text": [
      "3662 1928\n"
     ]
    }
   ],
   "source": [
    "train_imgs = list(TRAIN_DIR.glob('*.png'))\n",
    "test_imgs = list(TEST_DIR.glob('*.png'))\n",
    "print(len(train_imgs), len(test_imgs))"
   ]
  },
  {
   "cell_type": "code",
   "execution_count": 5,
   "metadata": {},
   "outputs": [],
   "source": [
    "processor = ImgProcessor()"
   ]
  },
  {
   "cell_type": "code",
   "execution_count": 6,
   "metadata": {},
   "outputs": [],
   "source": [
    "PROCESS_DIR = Path('../data/preprocessed')\n",
    "PRO_TRAIN_DIR = PROCESS_DIR / 'train_images'\n",
    "PRO_TEST_DIR = PROCESS_DIR / 'test_images'\n",
    "\n",
    "PRO_TRAIN_DIR.mkdir(parents=True, exist_ok=True)\n",
    "PRO_TEST_DIR.mkdir(parents=True, exist_ok=True)"
   ]
  },
  {
   "cell_type": "code",
   "execution_count": null,
   "metadata": {},
   "outputs": [
    {
     "name": "stderr",
     "output_type": "stream",
     "text": [
      " 65%|██████▍   | 2366/3662 [02:12<01:17, 16.77it/s]"
     ]
    }
   ],
   "source": [
    "with ThreadPoolExecutor(max_workers=NWORKERS) as executor:\n",
    "    results = {executor.submit(processor, str(f)): f for f in train_imgs}\n",
    "    for future in tqdm(as_completed(results), total=len(train_imgs)):\n",
    "        img = future.result()\n",
    "        f = results[future]\n",
    "        save_as = PRO_TRAIN_DIR / f.stem\n",
    "        np.save(save_as, img)"
   ]
  },
  {
   "cell_type": "markdown",
   "metadata": {},
   "source": [
    "## Copy the labels"
   ]
  },
  {
   "cell_type": "code",
   "execution_count": null,
   "metadata": {},
   "outputs": [],
   "source": [
    "train_csv = 'train.csv'\n",
    "test_csv  = 'test.csv'"
   ]
  },
  {
   "cell_type": "code",
   "execution_count": null,
   "metadata": {},
   "outputs": [],
   "source": [
    "shutil.copy(DATA_DIR / train_csv, PROCESS_DIR / train_csv)\n",
    "shutil.copy(DATA_DIR / test_csv, PROCESS_DIR / test_csv)"
   ]
  },
  {
   "cell_type": "markdown",
   "metadata": {},
   "source": [
    "## Check train/test examples"
   ]
  },
  {
   "cell_type": "code",
   "execution_count": null,
   "metadata": {},
   "outputs": [],
   "source": [
    "pro_train_imgs = list(PRO_TRAIN_DIR.glob('*.npy'))\n",
    "pro_test_imgs = list(PRO_TEST_DIR.glob('*.npy'))\n",
    "print(len(pro_train_imgs), len(pro_test_imgs))"
   ]
  },
  {
   "cell_type": "code",
   "execution_count": null,
   "metadata": {},
   "outputs": [],
   "source": [
    "n_samples = 10\n",
    "figsize = 8"
   ]
  },
  {
   "cell_type": "code",
   "execution_count": null,
   "metadata": {},
   "outputs": [],
   "source": [
    "np.random.shuffle(pro_train_imgs)\n",
    "fig, axs = plt.subplots(2, n_samples // 2, figsize=(40, 16))\n",
    "for i in range(n_samples // 2):\n",
    "    train_img = np.load(str(pro_train_imgs[i]))\n",
    "    axs[0, i].imshow(train_img)\n",
    "    print(train_img.shape)\n",
    "for i in range(n_samples // 2, n_samples):\n",
    "    train_img = np.load(str(pro_train_imgs[i]))\n",
    "    print(train_img.shape)\n",
    "    axs[1, i - n_samples // 2].imshow(train_img)"
   ]
  },
  {
   "cell_type": "markdown",
   "metadata": {},
   "source": [
    "## Processed image statistics"
   ]
  },
  {
   "cell_type": "code",
   "execution_count": null,
   "metadata": {},
   "outputs": [],
   "source": [
    "means = np.zeros((3, len(pro_train_imgs)))\n",
    "mean_residuals = np.zeros((3, len(pro_train_imgs)))\n",
    "\n",
    "def load(filename):\n",
    "    x = np.load(filename)\n",
    "    return T.ToTensor()(x)\n",
    "\n",
    "with ThreadPoolExecutor(max_workers=NWORKERS) as executor:\n",
    "    results = {executor.submit(load, str(f)): f for f in pro_train_imgs}\n",
    "    for future in tqdm(as_completed(results), total=len(pro_train_imgs)):\n",
    "        img = future.result()\n",
    "        f = results[future]\n",
    "        idx = pro_train_imgs.index(f)\n",
    "        \n",
    "        # extract mean and variance for nonzero parts of image\n",
    "        nonzero = (img > 0)\n",
    "        for c in range(3):\n",
    "            values = img[c, :, :].view(-1)[nonzero[c, :, :].view(-1)]\n",
    "            means[c, idx] = values.mean()\n",
    "            \n",
    "with ThreadPoolExecutor(max_workers=NWORKERS) as executor:\n",
    "    results = {executor.submit(load, str(f)): f for f in pro_train_imgs}\n",
    "    for future in tqdm(as_completed(results), total=len(pro_train_imgs)):\n",
    "        img = future.result()\n",
    "        f = results[future]\n",
    "        idx = pro_train_imgs.index(f)\n",
    "        \n",
    "        # extract mean and variance for nonzero parts of image\n",
    "        nonzero = (img > 0)\n",
    "        for c in range(3):\n",
    "            values = img[c, :, :].view(-1)[nonzero[c, :, :].view(-1)]\n",
    "            mean_residuals[c, idx] = ((values - means[c, :].mean()) ** 2).mean()  # values.std() ** 2"
   ]
  },
  {
   "cell_type": "code",
   "execution_count": null,
   "metadata": {},
   "outputs": [],
   "source": [
    "print(means[0, :].mean())\n",
    "print(means[1, :].mean())\n",
    "print(means[2, :].mean())"
   ]
  },
  {
   "cell_type": "code",
   "execution_count": null,
   "metadata": {},
   "outputs": [],
   "source": [
    "print(np.sqrt(mean_residuals[0, :].mean()))\n",
    "print(np.sqrt(mean_residuals[1, :].mean()))\n",
    "print(np.sqrt(mean_residuals[2, :].mean()))"
   ]
  },
  {
   "cell_type": "code",
   "execution_count": null,
   "metadata": {},
   "outputs": [],
   "source": [
    "0.46074811100811774\n",
    "0.24670958731736836\n",
    "0.08010832900893707\n",
    "\n",
    "0.22168294383428308\n",
    "0.12445088688150698\n",
    "0.05504030630811819"
   ]
  },
  {
   "cell_type": "code",
   "execution_count": null,
   "metadata": {},
   "outputs": [],
   "source": []
  }
 ],
 "metadata": {
  "kernelspec": {
   "display_name": "Python 3",
   "language": "python",
   "name": "python3"
  },
  "language_info": {
   "codemirror_mode": {
    "name": "ipython",
    "version": 3
   },
   "file_extension": ".py",
   "mimetype": "text/x-python",
   "name": "python",
   "nbconvert_exporter": "python",
   "pygments_lexer": "ipython3",
   "version": "3.6.7"
  }
 },
 "nbformat": 4,
 "nbformat_minor": 2
}
