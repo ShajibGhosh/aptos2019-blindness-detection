{
 "cells": [
  {
   "cell_type": "code",
   "execution_count": null,
   "metadata": {},
   "outputs": [],
   "source": [
    "%matplotlib inline"
   ]
  },
  {
   "cell_type": "code",
   "execution_count": null,
   "metadata": {},
   "outputs": [],
   "source": [
    "from pathlib import Path\n",
    "from PIL import Image\n",
    "import pandas as pd\n",
    "import numpy as np\n",
    "import matplotlib.pyplot as plt\n",
    "from tqdm import tqdm\n",
    "import math\n",
    "import cv2"
   ]
  },
  {
   "cell_type": "code",
   "execution_count": null,
   "metadata": {},
   "outputs": [],
   "source": [
    "TRAIN_DIR = Path('../data/raw/train_images')"
   ]
  },
  {
   "cell_type": "code",
   "execution_count": null,
   "metadata": {},
   "outputs": [],
   "source": [
    "train_imgs = list(TRAIN_DIR.glob('*.png'))\n",
    "len(train_imgs)"
   ]
  },
  {
   "cell_type": "code",
   "execution_count": null,
   "metadata": {},
   "outputs": [],
   "source": [
    "img = Image.open(train_imgs[10])\n",
    "img"
   ]
  },
  {
   "cell_type": "code",
   "execution_count": null,
   "metadata": {},
   "outputs": [],
   "source": [
    "def scale_radius(img, scale):\n",
    "    x = img[img.shape[0]//2, :, :].sum(1)\n",
    "    r = (x > x.mean() / 10).sum() / 2\n",
    "    s = scale * 1.0 / r\n",
    "    return cv2.resize(img, None, fx=s, fy=s)\n",
    "\n",
    "def crop_sq(im, tol=12):\n",
    "    gb = cv2.GaussianBlur(im, (7, 7), 0)\n",
    "    mask = (gb > tol).any(2)\n",
    "    coords = np.argwhere(mask)\n",
    "    y0, x0 = coords.min(axis=0)\n",
    "    y1, x1 = coords.max(axis=0)\n",
    "    cropped = im[y0:y1, x0:x1]\n",
    "    return cropped\n",
    "\n",
    "def process(f, debug=False):\n",
    "    scale = 300\n",
    "    try:\n",
    "        print('Reading image')\n",
    "        a = cv2.imread(str(f))[:, :, ::-1]  # bgr => rgb\n",
    "        if debug:\n",
    "            fig, axs = plt.subplots(5, figsize=(8, 40))\n",
    "            axs[0].imshow(a)\n",
    "            axs[0].set_title('original')\n",
    "        print('Cropping')\n",
    "        a = crop_sq(a)\n",
    "        if debug:\n",
    "            axs[1].imshow(a)\n",
    "            axs[1].set_title('square cropped')\n",
    "        print('Scaling')\n",
    "        a = scale_radius(a, scale)\n",
    "        if debug:\n",
    "            axs[2].imshow(a)\n",
    "            axs[2].set_title('scaled')\n",
    "        print('Applying blur')\n",
    "        gb = cv2.GaussianBlur(a, (0, 0), scale / 30)\n",
    "        a = cv2.addWeighted(a, 4, gb, -4, 128)\n",
    "        if debug:\n",
    "            axs[3].imshow(a)\n",
    "            axs[3].set_title('blurred')\n",
    "        print('Applying circle')\n",
    "        b = np.zeros(a.shape, dtype=np.uint8)\n",
    "        cv2.circle(b, (a.shape[1]//2, a.shape[0]//2), int(scale * 0.92), (255, 255, 255), thickness=-1)\n",
    "        a = a * b + 128 * (1 - b)\n",
    "        if debug:\n",
    "            axs[4].imshow(a)\n",
    "            axs[4].set_title('circle cropped')\n",
    "        return a\n",
    "    except Exception as ex:\n",
    "        print(f'Caught exception: {ex}')"
   ]
  },
  {
   "cell_type": "code",
   "execution_count": null,
   "metadata": {
    "scrolled": false
   },
   "outputs": [
    {
     "name": "stdout",
     "output_type": "stream",
     "text": [
      "Reading image\n",
      "Cropping\n",
      "Scaling\n",
      "Applying blur\n",
      "Applying circle\n",
      "Reading image\n",
      "Cropping\n",
      "Scaling\n",
      "Applying blur\n",
      "Applying circle\n",
      "Reading image\n",
      "Cropping\n",
      "Scaling\n",
      "Applying blur\n",
      "Applying circle\n",
      "Reading image\n",
      "Cropping\n",
      "Scaling\n",
      "Applying blur\n",
      "Applying circle\n",
      "Reading image\n",
      "Cropping\n",
      "Scaling\n",
      "Applying blur\n",
      "Applying circle\n",
      "Reading image\n",
      "Cropping\n",
      "Scaling\n",
      "Applying blur\n",
      "Applying circle\n",
      "Reading image\n",
      "Cropping\n",
      "Scaling\n",
      "Applying blur\n",
      "Applying circle\n",
      "Reading image\n",
      "Cropping\n",
      "Scaling\n",
      "Applying blur\n",
      "Applying circle\n",
      "Reading image\n",
      "Cropping\n",
      "Scaling\n",
      "Applying blur\n",
      "Applying circle\n",
      "Reading image\n",
      "Cropping\n",
      "Scaling\n",
      "Applying blur\n",
      "Applying circle\n",
      "Reading image\n",
      "Cropping\n",
      "Scaling\n",
      "Applying blur\n",
      "Applying circle\n",
      "Reading image\n",
      "Cropping\n",
      "Scaling\n",
      "Applying blur\n",
      "Applying circle\n",
      "Reading image\n",
      "Cropping\n",
      "Scaling\n",
      "Applying blur\n",
      "Applying circle\n",
      "Reading image\n",
      "Cropping\n",
      "Scaling\n",
      "Applying blur\n",
      "Applying circle\n",
      "Reading image\n",
      "Cropping\n",
      "Scaling\n",
      "Applying blur\n",
      "Applying circle\n",
      "Reading image\n",
      "Cropping\n",
      "Scaling\n",
      "Applying blur\n",
      "Applying circle\n",
      "Reading image\n",
      "Cropping\n",
      "Scaling\n",
      "Applying blur\n",
      "Applying circle\n",
      "Reading image\n",
      "Cropping\n",
      "Scaling\n",
      "Applying blur\n",
      "Applying circle\n",
      "Reading image\n",
      "Cropping\n",
      "Scaling\n",
      "Applying blur\n",
      "Applying circle\n",
      "Reading image\n",
      "Cropping\n",
      "Scaling\n",
      "Applying blur\n",
      "Applying circle\n",
      "Reading image\n",
      "Cropping\n",
      "Scaling\n",
      "Applying blur\n",
      "Applying circle\n",
      "Reading image\n",
      "Cropping\n",
      "Scaling\n",
      "Applying blur\n",
      "Applying circle\n",
      "Reading image\n",
      "Cropping\n",
      "Scaling\n",
      "Applying blur\n",
      "Applying circle\n",
      "Reading image\n",
      "Cropping\n",
      "Scaling\n",
      "Applying blur\n",
      "Applying circle\n",
      "Reading image\n",
      "Cropping\n",
      "Scaling\n",
      "Applying blur\n",
      "Applying circle\n",
      "Reading image\n",
      "Cropping\n",
      "Scaling\n",
      "Applying blur\n",
      "Applying circle\n",
      "Reading image\n",
      "Cropping\n",
      "Scaling\n",
      "Applying blur\n",
      "Applying circle\n",
      "Reading image\n",
      "Cropping\n",
      "Scaling\n",
      "Applying blur\n",
      "Applying circle\n",
      "Reading image\n",
      "Cropping\n",
      "Scaling\n",
      "Applying blur\n",
      "Applying circle\n",
      "Reading image\n",
      "Cropping\n",
      "Scaling\n",
      "Applying blur\n",
      "Applying circle\n",
      "Reading image\n",
      "Cropping\n",
      "Scaling\n",
      "Applying blur\n",
      "Applying circle\n",
      "Reading image\n",
      "Cropping\n",
      "Scaling\n",
      "Applying blur\n",
      "Applying circle\n",
      "Reading image\n",
      "Cropping\n",
      "Scaling\n",
      "Applying blur\n",
      "Applying circle\n",
      "Reading image\n",
      "Cropping\n",
      "Scaling\n",
      "Applying blur\n",
      "Applying circle\n",
      "Reading image\n",
      "Cropping\n",
      "Scaling\n",
      "Applying blur\n",
      "Applying circle\n",
      "Reading image\n",
      "Cropping\n",
      "Scaling\n",
      "Applying blur\n",
      "Applying circle\n",
      "Reading image\n",
      "Cropping\n",
      "Scaling\n",
      "Applying blur\n",
      "Applying circle\n",
      "Reading image\n",
      "Cropping\n",
      "Scaling\n",
      "Applying blur\n",
      "Applying circle\n",
      "Reading image\n",
      "Cropping\n",
      "Scaling\n",
      "Applying blur\n",
      "Applying circle\n",
      "Reading image\n",
      "Cropping\n",
      "Scaling\n",
      "Applying blur\n",
      "Applying circle\n",
      "Reading image\n",
      "Cropping\n",
      "Scaling\n",
      "Applying blur\n",
      "Applying circle\n",
      "Reading image\n",
      "Cropping\n",
      "Scaling\n",
      "Applying blur\n",
      "Applying circle\n",
      "Reading image\n",
      "Cropping\n",
      "Scaling\n",
      "Applying blur\n",
      "Applying circle\n",
      "Reading image\n",
      "Cropping\n",
      "Scaling\n",
      "Applying blur\n",
      "Applying circle\n",
      "Reading image\n",
      "Cropping\n",
      "Scaling\n",
      "Applying blur\n",
      "Applying circle\n",
      "Reading image\n",
      "Cropping\n",
      "Scaling\n",
      "Applying blur\n",
      "Applying circle\n",
      "Reading image\n",
      "Cropping\n",
      "Scaling\n",
      "Applying blur\n",
      "Applying circle\n",
      "Reading image\n",
      "Cropping\n",
      "Scaling\n",
      "Applying blur\n",
      "Applying circle\n",
      "Reading image\n",
      "Cropping\n"
     ]
    }
   ],
   "source": [
    "%%timeit -n 100\n",
    "img = process(train_imgs[10], debug=False)"
   ]
  },
  {
   "cell_type": "code",
   "execution_count": null,
   "metadata": {},
   "outputs": [],
   "source": [
    "plt.imshow(cv2.imread(str(train_imgs[8]))[:, :, ::-1])"
   ]
  },
  {
   "cell_type": "code",
   "execution_count": null,
   "metadata": {},
   "outputs": [],
   "source": [
    "plt.imshow(scale_radius(cv2.imread(str(train_imgs[8]))[:, :, ::-1], 300))"
   ]
  },
  {
   "cell_type": "code",
   "execution_count": null,
   "metadata": {},
   "outputs": [],
   "source": []
  },
  {
   "cell_type": "code",
   "execution_count": null,
   "metadata": {},
   "outputs": [],
   "source": [
    "scale = 300\n",
    "a = process(train_imgs[8])\n",
    "plt.imshow(a)"
   ]
  },
  {
   "cell_type": "code",
   "execution_count": null,
   "metadata": {},
   "outputs": [],
   "source": [
    "b = np.zeros(a.shape)\n",
    "b[:2, :, :]"
   ]
  },
  {
   "cell_type": "code",
   "execution_count": null,
   "metadata": {},
   "outputs": [],
   "source": [
    "b = np.zeros(a.shape, dtype=np.uint8)\n",
    "b[:2, :, :]"
   ]
  },
  {
   "cell_type": "code",
   "execution_count": null,
   "metadata": {},
   "outputs": [],
   "source": [
    "cv2.circle(b, (a.shape[1]//2, a.shape[0]//2), int(scale * 0.9), (255, 255, 255), thickness=-1)\n",
    "plt.imshow(b)"
   ]
  },
  {
   "cell_type": "code",
   "execution_count": null,
   "metadata": {},
   "outputs": [],
   "source": [
    "a = a * b + 128 * (1 - b)\n",
    "plt.imshow(a)"
   ]
  },
  {
   "cell_type": "code",
   "execution_count": null,
   "metadata": {},
   "outputs": [],
   "source": [
    "im = scale_radius(cv2.imread(str(train_imgs[8]))[:, :, ::-1], 300)\n",
    "plt.imshow(im)"
   ]
  },
  {
   "cell_type": "code",
   "execution_count": null,
   "metadata": {},
   "outputs": [],
   "source": [
    "def crop_sq(im, tol=6):\n",
    "    mask = (im > tol).any(2)\n",
    "    coords = np.argwhere(mask)\n",
    "    y0, x0 = coords.min(axis=0)\n",
    "    y1, x1 = coords.max(axis=0)\n",
    "    cropped = im[y0:y1, x0:x1]\n",
    "    return cropped"
   ]
  },
  {
   "cell_type": "code",
   "execution_count": null,
   "metadata": {},
   "outputs": [],
   "source": [
    "tol = 6\n",
    "mask = (im > tol).any(2)\n",
    "mask.shape"
   ]
  },
  {
   "cell_type": "code",
   "execution_count": null,
   "metadata": {},
   "outputs": [],
   "source": [
    "coords = np.argwhere(mask)\n",
    "coords"
   ]
  },
  {
   "cell_type": "code",
   "execution_count": null,
   "metadata": {},
   "outputs": [],
   "source": [
    "y0, x0 = coords.min(axis=0)\n",
    "y1, x1 = coords.max(axis=0)\n",
    "print(x0, y0, x1, y1)"
   ]
  },
  {
   "cell_type": "code",
   "execution_count": null,
   "metadata": {},
   "outputs": [],
   "source": [
    "cropped = im[y0:y1, x0:x1, :]\n",
    "plt.imshow(cropped)"
   ]
  },
  {
   "cell_type": "code",
   "execution_count": null,
   "metadata": {},
   "outputs": [],
   "source": [
    "def crop_image(img,tol=0):\n",
    "    # img is image data\n",
    "    # tol  is tolerance\n",
    "    mask = img>tol\n",
    "    mesh = np.ix_(mask.any(1),mask.any(0))\n",
    "    return img[mesh]"
   ]
  },
  {
   "cell_type": "code",
   "execution_count": null,
   "metadata": {},
   "outputs": [],
   "source": [
    "plt.imshow(crop_image(a))"
   ]
  },
  {
   "cell_type": "code",
   "execution_count": null,
   "metadata": {},
   "outputs": [],
   "source": [
    "labels_df.dtypes"
   ]
  },
  {
   "cell_type": "code",
   "execution_count": null,
   "metadata": {},
   "outputs": [],
   "source": [
    "labels_df.iloc[[4, 5, 6]].loc[labels_df['diagnosis'] == 0, :].index.values"
   ]
  },
  {
   "cell_type": "code",
   "execution_count": null,
   "metadata": {},
   "outputs": [],
   "source": [
    "grp_df = labels_df.groupby('diagnosis').count()\n",
    "grp_df"
   ]
  },
  {
   "cell_type": "code",
   "execution_count": null,
   "metadata": {},
   "outputs": [],
   "source": [
    "n = labels_df.shape[0]"
   ]
  },
  {
   "cell_type": "code",
   "execution_count": null,
   "metadata": {},
   "outputs": [],
   "source": [
    "submission_df.groupby('avg').count()"
   ]
  },
  {
   "cell_type": "code",
   "execution_count": null,
   "metadata": {},
   "outputs": [],
   "source": []
  }
 ],
 "metadata": {
  "kernelspec": {
   "display_name": "Python 3",
   "language": "python",
   "name": "python3"
  },
  "language_info": {
   "codemirror_mode": {
    "name": "ipython",
    "version": 3
   },
   "file_extension": ".py",
   "mimetype": "text/x-python",
   "name": "python",
   "nbconvert_exporter": "python",
   "pygments_lexer": "ipython3",
   "version": "3.6.7"
  }
 },
 "nbformat": 4,
 "nbformat_minor": 2
}
