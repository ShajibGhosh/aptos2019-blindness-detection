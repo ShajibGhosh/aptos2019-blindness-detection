{
 "cells": [
  {
   "cell_type": "code",
   "execution_count": 24,
   "metadata": {},
   "outputs": [],
   "source": [
    "import subprocess\n",
    "import shutil\n",
    "import json\n",
    "from pathlib import Path"
   ]
  },
  {
   "cell_type": "code",
   "execution_count": 2,
   "metadata": {},
   "outputs": [
    {
     "name": "stdout",
     "output_type": "stream",
     "text": [
      "usage: kaggle datasets create [-h] [-p FOLDER] [-u] [-q] [-t]\r\n",
      "                              [-r {skip,zip,tar}]\r\n",
      "\r\n",
      "optional arguments:\r\n",
      "  -h, --help            show this help message and exit\r\n",
      "  -p FOLDER, --path FOLDER\r\n",
      "                        Folder for upload, containing data files and a special datasets-metadata.json file (https://github.com/Kaggle/kaggle-api/wiki/Dataset-Metadata). Defaults to current working directory\r\n",
      "  -u, --public          Create publicly (default is private)\r\n",
      "  -q, --quiet           Suppress printing information about the upload/download progress\r\n",
      "  -t, --keep-tabular    Do not convert tabular files to CSV (default is to convert)\r\n",
      "  -r {skip,zip,tar}, --dir-mode {skip,zip,tar}\r\n",
      "                        What to do with directories: \"skip\" - ignore; \"zip\" - compressed upload; \"tar\" - uncompressed upload\r\n"
     ]
    }
   ],
   "source": [
    "!kaggle datasets create --help"
   ]
  },
  {
   "cell_type": "code",
   "execution_count": 11,
   "metadata": {},
   "outputs": [],
   "source": [
    "upload_dir = Path('../upload')\n",
    "model_dir = Path('../saved/aptos-EffNet-RobustLossAdaptive-Ranger-lr=0.005/0829_214017')\n",
    "target_dir = upload_dir / model_dir.parent.stem / model_dir.stem\n",
    "target_dir.mkdir(parents=True, exist_ok=True)"
   ]
  },
  {
   "cell_type": "code",
   "execution_count": 22,
   "metadata": {},
   "outputs": [
    {
     "name": "stdout",
     "output_type": "stream",
     "text": [
      "../saved/aptos-EffNet-RobustLossAdaptive-Ranger-lr=0.005/0829_214017/checkpoints/checkpoint-epoch10.pth ../saved/aptos-EffNet-RobustLossAdaptive-Ranger-lr=0.005/0829_214017/checkpoints/config.yaml\n"
     ]
    }
   ],
   "source": [
    "e = 10\n",
    "checkpoint = model_dir / f'checkpoints/checkpoint-epoch{e}.pth'\n",
    "config     = model_dir / 'checkpoints/config.yaml'\n",
    "print(checkpoint, config)"
   ]
  },
  {
   "cell_type": "code",
   "execution_count": 23,
   "metadata": {},
   "outputs": [
    {
     "data": {
      "text/plain": [
       "'../upload/aptos-EffNet-RobustLossAdaptive-Ranger-lr=0/0829_214017/config.yaml'"
      ]
     },
     "execution_count": 23,
     "metadata": {},
     "output_type": "execute_result"
    }
   ],
   "source": [
    "shutil.copy(config, target_dir)"
   ]
  },
  {
   "cell_type": "code",
   "execution_count": 25,
   "metadata": {},
   "outputs": [
    {
     "data": {
      "text/plain": [
       "{'title': 'test-automated-upload',\n",
       " 'id': 'khornlund/test-automated-upload',\n",
       " 'licenses': [{'name': 'CC0-1.0'}]}"
      ]
     },
     "execution_count": 25,
     "metadata": {},
     "output_type": "execute_result"
    }
   ],
   "source": [
    "meta = {\n",
    "    'title': 'test-automated-upload',\n",
    "    'id': 'khornlund/test-automated-upload',\n",
    "    'licenses': [{'name': 'CC0-1.0'}]\n",
    "}\n",
    "meta"
   ]
  },
  {
   "cell_type": "code",
   "execution_count": 30,
   "metadata": {},
   "outputs": [],
   "source": [
    "with open(target_dir.parent / 'dataset-metadata.json', 'w') as fh:\n",
    "    json.dump(meta, fh, indent=4)"
   ]
  },
  {
   "cell_type": "code",
   "execution_count": 7,
   "metadata": {},
   "outputs": [],
   "source": [
    "?data_folder"
   ]
  },
  {
   "cell_type": "code",
   "execution_count": 32,
   "metadata": {},
   "outputs": [
    {
     "data": {
      "text/plain": [
       "CompletedProcess(args=['kaggle', 'datasets', 'create', '-p', '../upload/aptos-EffNet-RobustLossAdaptive-Ranger-lr=0', '-r', 'zip'], returncode=0, stdout=b'Starting upload for file 0829_214017.zip\\nUpload successful: 0829_214017.zip (558B)\\nYour private Dataset is being created. Please check progress at https://www.kaggle.com/khornlund/test-automated-upload\\n')"
      ]
     },
     "execution_count": 32,
     "metadata": {},
     "output_type": "execute_result"
    }
   ],
   "source": [
    "subprocess.run(\n",
    "    ['kaggle', 'datasets', 'create', '-p', str(target_dir.parent), '-r', 'zip'], \n",
    "    stdout=subprocess.PIPE\n",
    ")"
   ]
  },
  {
   "cell_type": "code",
   "execution_count": null,
   "metadata": {},
   "outputs": [],
   "source": []
  }
 ],
 "metadata": {
  "kernelspec": {
   "display_name": "Python 3",
   "language": "python",
   "name": "python3"
  },
  "language_info": {
   "codemirror_mode": {
    "name": "ipython",
    "version": 3
   },
   "file_extension": ".py",
   "mimetype": "text/x-python",
   "name": "python",
   "nbconvert_exporter": "python",
   "pygments_lexer": "ipython3",
   "version": "3.6.7"
  }
 },
 "nbformat": 4,
 "nbformat_minor": 2
}
