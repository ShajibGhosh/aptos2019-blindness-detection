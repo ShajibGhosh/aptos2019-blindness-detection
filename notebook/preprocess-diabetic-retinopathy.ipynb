{
 "cells": [
  {
   "cell_type": "code",
   "execution_count": null,
   "metadata": {},
   "outputs": [],
   "source": [
    "%matplotlib inline"
   ]
  },
  {
   "cell_type": "code",
   "execution_count": 2,
   "metadata": {},
   "outputs": [],
   "source": [
    "from pathlib import Path\n",
    "from PIL import Image\n",
    "import pandas as pd\n",
    "import numpy as np\n",
    "import matplotlib.pyplot as plt\n",
    "from tqdm import tqdm\n",
    "import cv2\n",
    "import math\n",
    "from concurrent.futures import ThreadPoolExecutor, as_completed\n",
    "\n",
    "from aptos.data_loader import ImgProcessor"
   ]
  },
  {
   "cell_type": "markdown",
   "metadata": {},
   "source": [
    "## PreProcess Images"
   ]
  },
  {
   "cell_type": "code",
   "execution_count": 3,
   "metadata": {},
   "outputs": [],
   "source": [
    "TRAIN_DIR = Path('../data/raw/diabetic-retinopathy-detection/resized_train_cropped')"
   ]
  },
  {
   "cell_type": "code",
   "execution_count": 4,
   "metadata": {},
   "outputs": [
    {
     "name": "stdout",
     "output_type": "stream",
     "text": [
      "35108\n"
     ]
    }
   ],
   "source": [
    "train_imgs = list(TRAIN_DIR.glob('*.jpeg'))\n",
    "print(len(train_imgs))"
   ]
  },
  {
   "cell_type": "code",
   "execution_count": null,
   "metadata": {},
   "outputs": [],
   "source": [
    "processor = ImgProcessor()"
   ]
  },
  {
   "cell_type": "code",
   "execution_count": 5,
   "metadata": {},
   "outputs": [],
   "source": [
    "PROCESS_DIR = Path('../data/preprocessed/diabetic-retinopathy-detection')\n",
    "PRO_TRAIN_DIR = PROCESS_DIR / 'train_images'\n",
    "PRO_TRAIN_DIR.mkdir(parents=True, exist_ok=True)"
   ]
  },
  {
   "cell_type": "code",
   "execution_count": null,
   "metadata": {},
   "outputs": [],
   "source": [
    "nworkers = 16\n",
    "with ThreadPoolExecutor(max_workers=nworkers) as executor:\n",
    "    results = {executor.submit(processor, str(f)): f for f in train_imgs}\n",
    "    for future in tqdm(as_completed(results), total=len(train_imgs)):\n",
    "        img = future.result()\n",
    "        f = results[future]\n",
    "        save_as = PRO_TRAIN_DIR / f.stem\n",
    "        np.save(save_as, img)"
   ]
  },
  {
   "cell_type": "code",
   "execution_count": 6,
   "metadata": {},
   "outputs": [
    {
     "data": {
      "text/html": [
       "<div>\n",
       "<style scoped>\n",
       "    .dataframe tbody tr th:only-of-type {\n",
       "        vertical-align: middle;\n",
       "    }\n",
       "\n",
       "    .dataframe tbody tr th {\n",
       "        vertical-align: top;\n",
       "    }\n",
       "\n",
       "    .dataframe thead th {\n",
       "        text-align: right;\n",
       "    }\n",
       "</style>\n",
       "<table border=\"1\" class=\"dataframe\">\n",
       "  <thead>\n",
       "    <tr style=\"text-align: right;\">\n",
       "      <th></th>\n",
       "      <th>id_code</th>\n",
       "      <th>diagnosis</th>\n",
       "    </tr>\n",
       "  </thead>\n",
       "  <tbody>\n",
       "    <tr>\n",
       "      <th>0</th>\n",
       "      <td>10_left</td>\n",
       "      <td>0</td>\n",
       "    </tr>\n",
       "    <tr>\n",
       "      <th>1</th>\n",
       "      <td>10_right</td>\n",
       "      <td>0</td>\n",
       "    </tr>\n",
       "    <tr>\n",
       "      <th>2</th>\n",
       "      <td>13_left</td>\n",
       "      <td>0</td>\n",
       "    </tr>\n",
       "    <tr>\n",
       "      <th>3</th>\n",
       "      <td>13_right</td>\n",
       "      <td>0</td>\n",
       "    </tr>\n",
       "    <tr>\n",
       "      <th>4</th>\n",
       "      <td>15_left</td>\n",
       "      <td>1</td>\n",
       "    </tr>\n",
       "  </tbody>\n",
       "</table>\n",
       "</div>"
      ],
      "text/plain": [
       "    id_code  diagnosis\n",
       "0   10_left          0\n",
       "1  10_right          0\n",
       "2   13_left          0\n",
       "3  13_right          0\n",
       "4   15_left          1"
      ]
     },
     "execution_count": 6,
     "metadata": {},
     "output_type": "execute_result"
    }
   ],
   "source": [
    "labels_filename = '../data/raw/diabetic-retinopathy-detection/trainLabels_cropped.csv'\n",
    "df = pd.read_csv(labels_filename)[['image', 'level']]\n",
    "df.columns = ['id_code', 'diagnosis']\n",
    "df.head()"
   ]
  },
  {
   "cell_type": "code",
   "execution_count": 7,
   "metadata": {},
   "outputs": [],
   "source": [
    "df.to_csv(PROCESS_DIR / 'train.csv', index=False)"
   ]
  },
  {
   "cell_type": "markdown",
   "metadata": {},
   "source": [
    "## Check train examples"
   ]
  },
  {
   "cell_type": "code",
   "execution_count": null,
   "metadata": {},
   "outputs": [],
   "source": [
    "pro_train_imgs = list(PRO_TRAIN_DIR.glob('*.npy'))\n",
    "print(len(pro_train_imgs))"
   ]
  },
  {
   "cell_type": "code",
   "execution_count": null,
   "metadata": {},
   "outputs": [],
   "source": [
    "n_samples = 10\n",
    "figsize = 8"
   ]
  },
  {
   "cell_type": "code",
   "execution_count": null,
   "metadata": {},
   "outputs": [],
   "source": [
    "np.random.shuffle(pro_train_imgs)\n",
    "fig, axs = plt.subplots(2, n_samples // 2, figsize=(40, 16))\n",
    "for i in range(n_samples // 2):\n",
    "    train_img = np.load(str(pro_train_imgs[i]))\n",
    "    axs[0, i].imshow(train_img)\n",
    "for i in range(n_samples // 2, n_samples):\n",
    "    train_img = np.load(str(pro_train_imgs[i]))\n",
    "    axs[1, i - n_samples // 2].imshow(train_img)"
   ]
  },
  {
   "cell_type": "markdown",
   "metadata": {},
   "source": [
    "## Processed image statistics"
   ]
  },
  {
   "cell_type": "code",
   "execution_count": null,
   "metadata": {},
   "outputs": [],
   "source": [
    "print('WARNING: this will consume a LOT (~40GB) of RAM!')\n",
    "nworkers = 16\n",
    "means = np.zeros((len(pro_train_imgs), 3))\n",
    "variances = np.zeros((len(pro_train_imgs), 3))\n",
    "with ThreadPoolExecutor(max_workers=nworkers) as executor:\n",
    "    results = {executor.submit(np.load, str(f)): f for f in pro_train_imgs}\n",
    "    for future in tqdm(as_completed(results), total=len(pro_train_imgs)):\n",
    "        img = future.result()\n",
    "        f = results[future]\n",
    "        idx = pro_train_imgs.index(f)\n",
    "        means[idx, 0] = img[:, :, 0].mean()\n",
    "        means[idx, 1] = img[:, :, 1].mean()\n",
    "        means[idx, 2] = img[:, :, 2].mean()\n",
    "        variances[idx, 0] = img[:, :, 0].std() ** 2\n",
    "        variances[idx, 1] = img[:, :, 1].std() ** 2\n",
    "        variances[idx, 2] = img[:, :, 2].std() ** 2"
   ]
  },
  {
   "cell_type": "code",
   "execution_count": null,
   "metadata": {},
   "outputs": [],
   "source": [
    "print(means[:, 0].mean())\n",
    "print(means[:, 1].mean())\n",
    "print(means[:, 2].mean())"
   ]
  },
  {
   "cell_type": "code",
   "execution_count": null,
   "metadata": {},
   "outputs": [],
   "source": [
    "print(math.sqrt(variances[:, 0].mean()))\n",
    "print(math.sqrt(variances[:, 1].mean()))\n",
    "print(math.sqrt(variances[:, 2].mean()))"
   ]
  },
  {
   "cell_type": "code",
   "execution_count": null,
   "metadata": {},
   "outputs": [],
   "source": [
    "# statistics from official competition data\n",
    "81.68259022825875\n",
    "87.81281901701134\n",
    "92.54638140735202\n",
    "\n",
    "51.061115180201085\n",
    "54.74800421817656\n",
    "55.74811655328235"
   ]
  }
 ],
 "metadata": {
  "kernelspec": {
   "display_name": "Python 3",
   "language": "python",
   "name": "python3"
  },
  "language_info": {
   "codemirror_mode": {
    "name": "ipython",
    "version": 3
   },
   "file_extension": ".py",
   "mimetype": "text/x-python",
   "name": "python",
   "nbconvert_exporter": "python",
   "pygments_lexer": "ipython3",
   "version": "3.6.7"
  }
 },
 "nbformat": 4,
 "nbformat_minor": 2
}
