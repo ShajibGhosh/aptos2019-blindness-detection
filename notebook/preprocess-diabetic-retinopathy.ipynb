{
 "cells": [
  {
   "cell_type": "code",
   "execution_count": 1,
   "metadata": {},
   "outputs": [],
   "source": [
    "%load_ext autoreload\n",
    "%autoreload 2\n",
    "%matplotlib inline"
   ]
  },
  {
   "cell_type": "code",
   "execution_count": 2,
   "metadata": {},
   "outputs": [],
   "source": [
    "from pathlib import Path\n",
    "from PIL import Image\n",
    "import pandas as pd\n",
    "import numpy as np\n",
    "import matplotlib.pyplot as plt\n",
    "from tqdm import tqdm\n",
    "import cv2\n",
    "import math\n",
    "from concurrent.futures import ThreadPoolExecutor, as_completed\n",
    "\n",
    "from aptos.data_loader import ImgProcessor"
   ]
  },
  {
   "cell_type": "markdown",
   "metadata": {},
   "source": [
    "## PreProcess Images"
   ]
  },
  {
   "cell_type": "code",
   "execution_count": 3,
   "metadata": {},
   "outputs": [],
   "source": [
    "DATA_DIR = Path('../data/raw/diabetic-retinopathy-detection')\n",
    "TRAIN_DIR = DATA_DIR / 'resized_train_cropped'\n",
    "TEST_DIR  = DATA_DIR / 'resized_test'"
   ]
  },
  {
   "cell_type": "code",
   "execution_count": 4,
   "metadata": {},
   "outputs": [
    {
     "name": "stdout",
     "output_type": "stream",
     "text": [
      "35108 53576\n"
     ]
    }
   ],
   "source": [
    "NWORKERS = 16\n",
    "train_imgs = list(TRAIN_DIR.glob('*.jpeg'))\n",
    "test_imgs = list(TEST_DIR.glob('*.jpg'))\n",
    "print(len(train_imgs), len(test_imgs))"
   ]
  },
  {
   "cell_type": "code",
   "execution_count": 5,
   "metadata": {},
   "outputs": [],
   "source": [
    "processor = ImgProcessor()"
   ]
  },
  {
   "cell_type": "code",
   "execution_count": 6,
   "metadata": {},
   "outputs": [],
   "source": [
    "PROCESS_DIR = Path('../data/preprocessed/diabetic-retinopathy-detection')\n",
    "PRO_TRAIN_DIR = PROCESS_DIR / 'train_images'\n",
    "PRO_TRAIN_DIR.mkdir(parents=True, exist_ok=True)"
   ]
  },
  {
   "cell_type": "code",
   "execution_count": 7,
   "metadata": {},
   "outputs": [
    {
     "name": "stderr",
     "output_type": "stream",
     "text": [
      "100%|██████████| 35108/35108 [05:15<00:00, 111.14it/s]\n"
     ]
    }
   ],
   "source": [
    "with ThreadPoolExecutor(max_workers=NWORKERS) as executor:\n",
    "    results = {executor.submit(processor, str(f)): f for f in train_imgs}\n",
    "    for future in tqdm(as_completed(results), total=len(train_imgs)):\n",
    "        img = future.result()\n",
    "        f = results[future]\n",
    "        save_as = PRO_TRAIN_DIR / f.stem\n",
    "        np.save(save_as, img)"
   ]
  },
  {
   "cell_type": "code",
   "execution_count": null,
   "metadata": {},
   "outputs": [
    {
     "name": "stderr",
     "output_type": "stream",
     "text": [
      " 56%|█████▌    | 29824/53576 [03:49<02:34, 153.89it/s]"
     ]
    }
   ],
   "source": [
    "with ThreadPoolExecutor(max_workers=NWORKERS) as executor:\n",
    "    results = {executor.submit(processor, str(f)): f for f in test_imgs}\n",
    "    for future in tqdm(as_completed(results), total=len(test_imgs)):\n",
    "        img = future.result()\n",
    "        f = results[future]\n",
    "        save_as = PRO_TRAIN_DIR / f.stem\n",
    "        np.save(save_as, img)"
   ]
  },
  {
   "cell_type": "markdown",
   "metadata": {},
   "source": [
    "## Wrangle labels data\n",
    "\n",
    "Join the train and test sets together"
   ]
  },
  {
   "cell_type": "code",
   "execution_count": null,
   "metadata": {},
   "outputs": [],
   "source": [
    "train_labels_filename = '../data/raw/diabetic-retinopathy-detection/trainLabels_cropped.csv'\n",
    "train_df = pd.read_csv(train_labels_filename)[['image', 'level']]\n",
    "train_df.columns = ['id_code', 'diagnosis']\n",
    "print(train_df.shape)\n",
    "train_df.head(2)"
   ]
  },
  {
   "cell_type": "code",
   "execution_count": null,
   "metadata": {},
   "outputs": [],
   "source": [
    "test_labels_filename = '../data/raw/diabetic-retinopathy-detection/testLabels.csv'\n",
    "test_df = pd.read_csv(test_labels_filename)[['image', 'level']]\n",
    "test_df.columns = ['id_code', 'diagnosis']\n",
    "print(test_df.shape)\n",
    "test_df.head(2)"
   ]
  },
  {
   "cell_type": "code",
   "execution_count": null,
   "metadata": {},
   "outputs": [],
   "source": [
    "join_df = pd.concat([train_df, test_df], axis=0)\n",
    "print(join_df.shape)\n",
    "print(join_df.groupby('diagnosis').count())\n",
    "join_df.head()"
   ]
  },
  {
   "cell_type": "code",
   "execution_count": null,
   "metadata": {},
   "outputs": [],
   "source": [
    "join_df.to_csv(PROCESS_DIR / 'train.csv', index=False)"
   ]
  },
  {
   "cell_type": "markdown",
   "metadata": {},
   "source": [
    "## Check train examples"
   ]
  },
  {
   "cell_type": "code",
   "execution_count": null,
   "metadata": {},
   "outputs": [],
   "source": [
    "pro_train_imgs = list(PRO_TRAIN_DIR.glob('*.npy'))\n",
    "print(len(pro_train_imgs))"
   ]
  },
  {
   "cell_type": "code",
   "execution_count": null,
   "metadata": {},
   "outputs": [],
   "source": [
    "n_samples = 10\n",
    "figsize = 8"
   ]
  },
  {
   "cell_type": "code",
   "execution_count": null,
   "metadata": {},
   "outputs": [],
   "source": [
    "np.random.shuffle(pro_train_imgs)\n",
    "fig, axs = plt.subplots(2, n_samples // 2, figsize=(40, 16))\n",
    "for i in range(n_samples // 2):\n",
    "    train_img = np.load(str(pro_train_imgs[i]))\n",
    "    axs[0, i].imshow(train_img)\n",
    "    axs[0, i].set_title(pro_train_imgs[i].stem)\n",
    "for i in range(n_samples // 2, n_samples):\n",
    "    train_img = np.load(str(pro_train_imgs[i]))\n",
    "    axs[1, i - n_samples // 2].imshow(train_img)\n",
    "    axs[1, i - n_samples // 2].set_title(pro_train_imgs[i].stem)"
   ]
  },
  {
   "cell_type": "code",
   "execution_count": null,
   "metadata": {},
   "outputs": [],
   "source": []
  },
  {
   "cell_type": "code",
   "execution_count": null,
   "metadata": {},
   "outputs": [],
   "source": []
  },
  {
   "cell_type": "code",
   "execution_count": null,
   "metadata": {},
   "outputs": [],
   "source": []
  },
  {
   "cell_type": "code",
   "execution_count": null,
   "metadata": {},
   "outputs": [],
   "source": []
  }
 ],
 "metadata": {
  "kernelspec": {
   "display_name": "Python 3",
   "language": "python",
   "name": "python3"
  },
  "language_info": {
   "codemirror_mode": {
    "name": "ipython",
    "version": 3
   },
   "file_extension": ".py",
   "mimetype": "text/x-python",
   "name": "python",
   "nbconvert_exporter": "python",
   "pygments_lexer": "ipython3",
   "version": "3.6.7"
  }
 },
 "nbformat": 4,
 "nbformat_minor": 2
}
