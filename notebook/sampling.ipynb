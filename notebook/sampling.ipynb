{
 "cells": [
  {
   "cell_type": "code",
   "execution_count": 1,
   "metadata": {},
   "outputs": [],
   "source": [
    "import numpy as np"
   ]
  },
  {
   "cell_type": "code",
   "execution_count": 71,
   "metadata": {},
   "outputs": [],
   "source": [
    "class ClassWeightedBatchSampler:\n",
    "\n",
    "    def __init__(self, class_weights, class_idxs, batch_size, n_batches):\n",
    "        self.class_weights = class_weights\n",
    "        self.class_idxs = [CircularList(idx) for idx in class_idxs]\n",
    "        self.batch_size = batch_size\n",
    "        self.n_batches = n_batches\n",
    "\n",
    "        self.n_classes = len(self.class_weights)\n",
    "        self.class_sizes = np.asarray([int(batch_size * w) for w in self.class_weights])\n",
    "\n",
    "    def _get_batch(self, start_idxs):\n",
    "        selected = []\n",
    "        for c, size in enumerate(self.class_sizes):\n",
    "            selected.extend(self.class_idxs[c][start_idxs[c]:start_idxs[c] + size])\n",
    "        np.random.shuffle(selected)\n",
    "        return selected\n",
    "\n",
    "    def __iter__(self):\n",
    "        [cidx.shuffle() for cidx in self.class_idxs]\n",
    "        start_idxs = np.zeros(self.n_classes, dtype=int)\n",
    "        for bidx in range(self.n_batches):\n",
    "            yield self._get_batch(start_idxs)\n",
    "            start_idxs += self.class_sizes\n",
    "\n",
    "    def __len__(self):\n",
    "        return self.n_batches\n",
    "\n",
    "\n",
    "class CircularList:\n",
    "    \"\"\"\n",
    "    Applies modulo function to indexing.\n",
    "    \"\"\"\n",
    "    def __init__(self, items):\n",
    "        self._items = items\n",
    "        self._mod = len(self._items)\n",
    "\n",
    "    def shuffle(self):\n",
    "        np.random.shuffle(self._items)\n",
    "\n",
    "    def __getitem__(self, key):\n",
    "        if isinstance(key, slice):\n",
    "            return [self[i] for i in range(key.start, key.stop)]\n",
    "        return self._items[key % self._mod]\n"
   ]
  },
  {
   "cell_type": "code",
   "execution_count": 72,
   "metadata": {},
   "outputs": [
    {
     "name": "stdout",
     "output_type": "stream",
     "text": [
      "[0.5, 0.2, 0.3] [array([ 0,  1,  2,  3,  4,  5,  6,  7,  8,  9, 10, 11, 12, 13, 14, 15, 16,\n",
      "       17, 18, 19]), [21, 22, 23], array([30, 31, 32, 33, 34, 35, 36, 37, 38, 39])]\n"
     ]
    }
   ],
   "source": [
    "weights = [10 / 20, 4 / 20, 6 / 20]\n",
    "idxs  = [\n",
    "    np.arange(20),\n",
    "    [21, 22, 23],\n",
    "    np.arange(30, 40)\n",
    "]\n",
    "print(weights, idxs)"
   ]
  },
  {
   "cell_type": "code",
   "execution_count": 73,
   "metadata": {},
   "outputs": [
    {
     "data": {
      "text/plain": [
       "2"
      ]
     },
     "execution_count": 73,
     "metadata": {},
     "output_type": "execute_result"
    }
   ],
   "source": [
    "sampler = ClassWeightedBatchSampler(weights, idxs, 20, 2)\n",
    "len(sampler)"
   ]
  },
  {
   "cell_type": "code",
   "execution_count": 74,
   "metadata": {},
   "outputs": [
    {
     "data": {
      "text/plain": [
       "array([10,  4,  6])"
      ]
     },
     "execution_count": 74,
     "metadata": {},
     "output_type": "execute_result"
    }
   ],
   "source": [
    "sampler.class_sizes"
   ]
  },
  {
   "cell_type": "code",
   "execution_count": 75,
   "metadata": {},
   "outputs": [
    {
     "name": "stdout",
     "output_type": "stream",
     "text": [
      "[38, 39, 22, 23, 23, 18, 1, 7, 34, 21, 14, 0, 12, 2, 37, 33, 6, 3, 17, 32]\n",
      "[39, 31, 13, 10, 11, 23, 4, 15, 36, 21, 5, 22, 35, 37, 8, 9, 30, 19, 16, 21]\n"
     ]
    }
   ],
   "source": [
    "for batch in sampler:\n",
    "    print(batch)"
   ]
  },
  {
   "cell_type": "code",
   "execution_count": 69,
   "metadata": {},
   "outputs": [],
   "source": [
    "class CircularList:\n",
    "\n",
    "    def __init__(self, items):\n",
    "        self._items = items\n",
    "        self._mod = len(self._items)\n",
    "\n",
    "    def __getitem__(self, key):\n",
    "        if isinstance(key, slice):\n",
    "            return [self[i] for i in range(key.start, key.stop)]\n",
    "        return self._items[key % self._mod]"
   ]
  },
  {
   "cell_type": "code",
   "execution_count": 50,
   "metadata": {},
   "outputs": [],
   "source": [
    "cl = CircularList([1, 2, 3])"
   ]
  },
  {
   "cell_type": "code",
   "execution_count": 51,
   "metadata": {},
   "outputs": [
    {
     "data": {
      "text/plain": [
       "2"
      ]
     },
     "execution_count": 51,
     "metadata": {},
     "output_type": "execute_result"
    }
   ],
   "source": [
    "cl[1]"
   ]
  },
  {
   "cell_type": "code",
   "execution_count": 52,
   "metadata": {},
   "outputs": [
    {
     "data": {
      "text/plain": [
       "2"
      ]
     },
     "execution_count": 52,
     "metadata": {},
     "output_type": "execute_result"
    }
   ],
   "source": [
    "cl[4]"
   ]
  },
  {
   "cell_type": "code",
   "execution_count": 53,
   "metadata": {},
   "outputs": [
    {
     "data": {
      "text/plain": [
       "3"
      ]
     },
     "execution_count": 53,
     "metadata": {},
     "output_type": "execute_result"
    }
   ],
   "source": [
    "cl[5]"
   ]
  },
  {
   "cell_type": "code",
   "execution_count": 54,
   "metadata": {},
   "outputs": [
    {
     "data": {
      "text/plain": [
       "[3, 1, 2, 3, 1, 2, 3, 1]"
      ]
     },
     "execution_count": 54,
     "metadata": {},
     "output_type": "execute_result"
    }
   ],
   "source": [
    "cl[2:10]"
   ]
  },
  {
   "cell_type": "code",
   "execution_count": 55,
   "metadata": {},
   "outputs": [
    {
     "data": {
      "text/plain": [
       "array([0., 0., 0.])"
      ]
     },
     "execution_count": 55,
     "metadata": {},
     "output_type": "execute_result"
    }
   ],
   "source": [
    "a = np.zeros((3))\n",
    "a"
   ]
  },
  {
   "cell_type": "code",
   "execution_count": 57,
   "metadata": {},
   "outputs": [
    {
     "data": {
      "text/plain": [
       "array([2., 4., 6.])"
      ]
     },
     "execution_count": 57,
     "metadata": {},
     "output_type": "execute_result"
    }
   ],
   "source": [
    "a += np.array([1, 2, 3])\n",
    "a"
   ]
  },
  {
   "cell_type": "code",
   "execution_count": null,
   "metadata": {},
   "outputs": [],
   "source": []
  }
 ],
 "metadata": {
  "kernelspec": {
   "display_name": "Python 3",
   "language": "python",
   "name": "python3"
  },
  "language_info": {
   "codemirror_mode": {
    "name": "ipython",
    "version": 3
   },
   "file_extension": ".py",
   "mimetype": "text/x-python",
   "name": "python",
   "nbconvert_exporter": "python",
   "pygments_lexer": "ipython3",
   "version": "3.6.7"
  }
 },
 "nbformat": 4,
 "nbformat_minor": 2
}
