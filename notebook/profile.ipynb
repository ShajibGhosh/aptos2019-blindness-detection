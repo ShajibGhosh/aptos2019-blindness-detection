{
 "cells": [
  {
   "cell_type": "code",
   "execution_count": 2,
   "metadata": {},
   "outputs": [],
   "source": [
    "import pstats"
   ]
  },
  {
   "cell_type": "code",
   "execution_count": 7,
   "metadata": {
    "scrolled": false
   },
   "outputs": [
    {
     "name": "stdout",
     "output_type": "stream",
     "text": [
      "Mon Jul  1 21:54:50 2019    ../profile.txt\n",
      "\n",
      "         2081444 function calls (2024380 primitive calls) in 144.201 seconds\n",
      "\n",
      "   Ordered by: cumulative time\n",
      "   List reduced from 12668 to 30 due to restriction <30>\n",
      "\n",
      "   ncalls  tottime  percall  cumtime  percall filename:lineno(function)\n",
      "   3082/1    0.132    0.000  144.205  144.205 {built-in method builtins.exec}\n",
      "        1    0.000    0.000  144.205  144.205 aptos/cli.py:1(<module>)\n",
      "        1    0.000    0.000  143.043  143.043 /home/khornlund/bb/kaggle/aptos/aptos/main.py:23(train)\n",
      "        1    0.000    0.000  139.663  139.663 /home/khornlund/bb/kaggle/aptos/aptos/base/base_trainer.py:54(train)\n",
      "        1    0.450    0.450  139.378  139.378 /home/khornlund/bb/kaggle/aptos/aptos/trainer/trainer.py:33(_train_epoch)\n",
      "       17    0.000    0.000   58.671    3.451 /home/khornlund/.conda/envs/aptos/lib/python3.6/site-packages/torch/utils/data/dataloader.py:557(__next__)\n",
      "       15    0.000    0.000   58.118    3.875 /home/khornlund/.conda/envs/aptos/lib/python3.6/site-packages/torch/utils/data/dataloader.py:524(_get_batch)\n",
      "       24    0.000    0.000   58.118    2.422 /home/khornlund/.conda/envs/aptos/lib/python3.6/site-packages/torch/utils/data/dataloader.py:498(_try_get_batch)\n",
      "       24    0.001    0.000   58.116    2.422 /home/khornlund/.conda/envs/aptos/lib/python3.6/multiprocessing/queues.py:91(get)\n",
      "       24    0.000    0.000   57.351    2.390 /home/khornlund/.conda/envs/aptos/lib/python3.6/multiprocessing/connection.py:253(poll)\n",
      "       24    0.000    0.000   57.351    2.390 /home/khornlund/.conda/envs/aptos/lib/python3.6/multiprocessing/connection.py:413(_poll)\n",
      "       24    0.001    0.000   57.351    2.390 /home/khornlund/.conda/envs/aptos/lib/python3.6/multiprocessing/connection.py:897(wait)\n",
      "       24    0.000    0.000   57.349    2.390 /home/khornlund/.conda/envs/aptos/lib/python3.6/selectors.py:365(select)\n",
      "       24   57.348    2.390   57.348    2.390 {method 'poll' of 'select.poll' objects}\n",
      "        1    0.187    0.187   56.628   56.628 /home/khornlund/bb/kaggle/aptos/aptos/trainer/trainer.py:94(_valid_epoch)\n",
      "       37    0.001    0.000   54.240    1.466 /home/khornlund/bb/kaggle/aptos/aptos/utils/visualization.py:37(wrapper)\n",
      "        7    0.028    0.004   54.233    7.748 /home/khornlund/.conda/envs/aptos/lib/python3.6/site-packages/torch/utils/tensorboard/writer.py:364(add_image)\n",
      "        7    0.649    0.093   54.136    7.734 /home/khornlund/.conda/envs/aptos/lib/python3.6/site-packages/torch/utils/tensorboard/summary.py:194(image)\n",
      "        7    0.072    0.010   52.785    7.541 /home/khornlund/.conda/envs/aptos/lib/python3.6/site-packages/torch/utils/tensorboard/summary.py:258(make_image)\n",
      "        7    0.000    0.000   51.028    7.290 /home/khornlund/.conda/envs/aptos/lib/python3.6/site-packages/PIL/Image.py:1930(save)\n",
      "        7    0.000    0.000   51.020    7.289 /home/khornlund/.conda/envs/aptos/lib/python3.6/site-packages/PIL/PngImagePlugin.py:753(_save)\n",
      "        7    0.006    0.001   51.019    7.288 /home/khornlund/.conda/envs/aptos/lib/python3.6/site-packages/PIL/ImageFile.py:466(_save)\n",
      "     1805   50.876    0.028   50.876    0.028 {method 'encode' of 'ImagingEncoder' objects}\n",
      "       12    0.018    0.002    6.576    0.548 /home/khornlund/.conda/envs/aptos/lib/python3.6/site-packages/torch/optim/sgd.py:71(step)\n",
      "        7    0.016    0.002    6.137    0.877 /home/khornlund/.conda/envs/aptos/lib/python3.6/site-packages/torchvision/utils.py:6(make_grid)\n",
      "     2387    4.024    0.002    4.024    0.002 {method 'add_' of 'torch._C._TensorBase' objects}\n",
      "  1275/15    0.010    0.000    3.821    0.255 /home/khornlund/.conda/envs/aptos/lib/python3.6/site-packages/torch/nn/modules/module.py:487(__call__)\n",
      "       15    0.001    0.000    3.820    0.255 /home/khornlund/bb/kaggle/aptos/aptos/model/model.py:60(forward)\n",
      "   135/90    0.002    0.000    3.686    0.041 /home/khornlund/.conda/envs/aptos/lib/python3.6/site-packages/torch/nn/modules/container.py:90(forward)\n",
      "     3512    3.152    0.001    3.152    0.001 {method 'narrow' of 'torch._C._TensorBase' objects}\n",
      "\n",
      "\n"
     ]
    },
    {
     "data": {
      "text/plain": [
       "<pstats.Stats at 0x7fa2e2e74ac8>"
      ]
     },
     "execution_count": 7,
     "metadata": {},
     "output_type": "execute_result"
    }
   ],
   "source": [
    "p = pstats.Stats('../profile.txt')\n",
    "p.sort_stats('cumulative').print_stats(30)"
   ]
  },
  {
   "cell_type": "code",
   "execution_count": 8,
   "metadata": {},
   "outputs": [
    {
     "name": "stdout",
     "output_type": "stream",
     "text": [
      "Mon Jul  1 22:03:11 2019    ../profile-viz.txt\n",
      "\n",
      "         2060744 function calls (2003684 primitive calls) in 99.400 seconds\n",
      "\n",
      "   Ordered by: cumulative time\n",
      "   List reduced from 12680 to 30 due to restriction <30>\n",
      "\n",
      "   ncalls  tottime  percall  cumtime  percall filename:lineno(function)\n",
      "   3082/1    0.133    0.000   99.403   99.403 {built-in method builtins.exec}\n",
      "        1    0.000    0.000   99.403   99.403 aptos/cli.py:1(<module>)\n",
      "        1    0.000    0.000   98.276   98.276 /home/khornlund/bb/kaggle/aptos/aptos/main.py:23(train)\n",
      "        1    0.000    0.000   94.922   94.922 /home/khornlund/bb/kaggle/aptos/aptos/base/base_trainer.py:54(train)\n",
      "        1    0.256    0.256   94.652   94.652 /home/khornlund/bb/kaggle/aptos/aptos/trainer/trainer.py:33(_train_epoch)\n",
      "       17    0.000    0.000   56.941    3.349 /home/khornlund/.conda/envs/aptos/lib/python3.6/site-packages/torch/utils/data/dataloader.py:557(__next__)\n",
      "       15    0.000    0.000   56.360    3.757 /home/khornlund/.conda/envs/aptos/lib/python3.6/site-packages/torch/utils/data/dataloader.py:524(_get_batch)\n",
      "       24    0.000    0.000   56.360    2.348 /home/khornlund/.conda/envs/aptos/lib/python3.6/site-packages/torch/utils/data/dataloader.py:498(_try_get_batch)\n",
      "       24    0.001    0.000   56.359    2.348 /home/khornlund/.conda/envs/aptos/lib/python3.6/multiprocessing/queues.py:91(get)\n",
      "       24    0.000    0.000   56.340    2.347 /home/khornlund/.conda/envs/aptos/lib/python3.6/multiprocessing/connection.py:253(poll)\n",
      "       24    0.000    0.000   56.340    2.347 /home/khornlund/.conda/envs/aptos/lib/python3.6/multiprocessing/connection.py:413(_poll)\n",
      "       24    0.000    0.000   56.339    2.347 /home/khornlund/.conda/envs/aptos/lib/python3.6/multiprocessing/connection.py:897(wait)\n",
      "       24    0.000    0.000   56.338    2.347 /home/khornlund/.conda/envs/aptos/lib/python3.6/selectors.py:365(select)\n",
      "       24   56.337    2.347   56.337    2.347 {method 'poll' of 'select.poll' objects}\n",
      "        1    0.203    0.203   55.883   55.883 /home/khornlund/bb/kaggle/aptos/aptos/trainer/trainer.py:94(_valid_epoch)\n",
      "       33    0.000    0.000   21.903    0.664 /home/khornlund/bb/kaggle/aptos/aptos/utils/visualization.py:37(wrapper)\n",
      "        3    0.005    0.002   21.898    7.299 /home/khornlund/.conda/envs/aptos/lib/python3.6/site-packages/torch/utils/tensorboard/writer.py:364(add_image)\n",
      "        3    0.249    0.083   21.872    7.291 /home/khornlund/.conda/envs/aptos/lib/python3.6/site-packages/torch/utils/tensorboard/summary.py:194(image)\n",
      "        3    0.029    0.010   21.366    7.122 /home/khornlund/.conda/envs/aptos/lib/python3.6/site-packages/torch/utils/tensorboard/summary.py:258(make_image)\n",
      "        3    0.000    0.000   20.632    6.877 /home/khornlund/.conda/envs/aptos/lib/python3.6/site-packages/PIL/Image.py:1930(save)\n",
      "        3    0.000    0.000   20.626    6.875 /home/khornlund/.conda/envs/aptos/lib/python3.6/site-packages/PIL/PngImagePlugin.py:753(_save)\n",
      "        3    0.002    0.001   20.625    6.875 /home/khornlund/.conda/envs/aptos/lib/python3.6/site-packages/PIL/ImageFile.py:466(_save)\n",
      "      753   20.577    0.027   20.577    0.027 {method 'encode' of 'ImagingEncoder' objects}\n",
      "        3    0.011    0.004    6.005    2.002 /home/khornlund/.conda/envs/aptos/lib/python3.6/site-packages/torchvision/utils.py:6(make_grid)\n",
      "       36    3.953    0.110    3.953    0.110 {method 'item' of 'torch._C._TensorBase' objects}\n",
      "     1464    3.567    0.002    3.567    0.002 {method 'narrow' of 'torch._C._TensorBase' objects}\n",
      "      185    2.738    0.015    2.739    0.015 {method 'to' of 'torch._C._TensorBase' objects}\n",
      "        1    0.000    0.000    2.209    2.209 /home/khornlund/bb/kaggle/aptos/aptos/main.py:114(_prepare_device)\n",
      "        1    0.000    0.000    2.209    2.209 /home/khornlund/.conda/envs/aptos/lib/python3.6/site-packages/torch/nn/modules/module.py:310(to)\n",
      "     81/1    0.003    0.000    2.209    2.209 /home/khornlund/.conda/envs/aptos/lib/python3.6/site-packages/torch/nn/modules/module.py:191(_apply)\n",
      "\n",
      "\n"
     ]
    },
    {
     "data": {
      "text/plain": [
       "<pstats.Stats at 0x7fa2e23c74e0>"
      ]
     },
     "execution_count": 8,
     "metadata": {},
     "output_type": "execute_result"
    }
   ],
   "source": [
    "p = pstats.Stats('../profile-viz.txt')\n",
    "p.sort_stats('cumulative').print_stats(30)"
   ]
  },
  {
   "cell_type": "code",
   "execution_count": 9,
   "metadata": {},
   "outputs": [
    {
     "name": "stdout",
     "output_type": "stream",
     "text": [
      "Mon Jul  1 22:05:41 2019    ../profile-viz2.txt\n",
      "\n",
      "         2042197 function calls (1985295 primitive calls) in 71.207 seconds\n",
      "\n",
      "   Ordered by: cumulative time\n",
      "   List reduced from 12562 to 30 due to restriction <30>\n",
      "\n",
      "   ncalls  tottime  percall  cumtime  percall filename:lineno(function)\n",
      "   3067/1    0.145    0.000   71.210   71.210 {built-in method builtins.exec}\n",
      "        1    0.000    0.000   71.210   71.210 aptos/cli.py:1(<module>)\n",
      "        1    0.000    0.000   70.057   70.057 /home/khornlund/bb/kaggle/aptos/aptos/main.py:23(train)\n",
      "        1    0.000    0.000   66.646   66.646 /home/khornlund/bb/kaggle/aptos/aptos/base/base_trainer.py:54(train)\n",
      "        1    0.253    0.253   66.572   66.572 /home/khornlund/bb/kaggle/aptos/aptos/trainer/trainer.py:33(_train_epoch)\n",
      "       17    0.000    0.000   57.968    3.410 /home/khornlund/.conda/envs/aptos/lib/python3.6/site-packages/torch/utils/data/dataloader.py:557(__next__)\n",
      "       15    0.000    0.000   57.615    3.841 /home/khornlund/.conda/envs/aptos/lib/python3.6/site-packages/torch/utils/data/dataloader.py:524(_get_batch)\n",
      "       24    0.000    0.000   57.615    2.401 /home/khornlund/.conda/envs/aptos/lib/python3.6/site-packages/torch/utils/data/dataloader.py:498(_try_get_batch)\n",
      "       24    0.001    0.000   57.613    2.401 /home/khornlund/.conda/envs/aptos/lib/python3.6/multiprocessing/queues.py:91(get)\n",
      "       24    0.000    0.000   57.592    2.400 /home/khornlund/.conda/envs/aptos/lib/python3.6/multiprocessing/connection.py:253(poll)\n",
      "       24    0.000    0.000   57.592    2.400 /home/khornlund/.conda/envs/aptos/lib/python3.6/multiprocessing/connection.py:413(_poll)\n",
      "       24    0.000    0.000   57.592    2.400 /home/khornlund/.conda/envs/aptos/lib/python3.6/multiprocessing/connection.py:897(wait)\n",
      "       24    0.000    0.000   57.590    2.400 /home/khornlund/.conda/envs/aptos/lib/python3.6/selectors.py:365(select)\n",
      "       24   57.590    2.400   57.590    2.400 {method 'poll' of 'select.poll' objects}\n",
      "        1    0.071    0.071   27.331   27.331 /home/khornlund/bb/kaggle/aptos/aptos/trainer/trainer.py:94(_valid_epoch)\n",
      "       36    3.986    0.111    3.986    0.111 {method 'item' of 'torch._C._TensorBase' objects}\n",
      "      185    2.803    0.015    2.805    0.015 {method 'to' of 'torch._C._TensorBase' objects}\n",
      "        1    0.000    0.000    2.281    2.281 /home/khornlund/bb/kaggle/aptos/aptos/main.py:114(_prepare_device)\n",
      "        1    0.000    0.000    2.281    2.281 /home/khornlund/.conda/envs/aptos/lib/python3.6/site-packages/torch/nn/modules/module.py:310(to)\n",
      "     81/1    0.003    0.000    2.281    2.281 /home/khornlund/.conda/envs/aptos/lib/python3.6/site-packages/torch/nn/modules/module.py:191(_apply)\n",
      "      140    0.000    0.000    2.278    0.016 /home/khornlund/.conda/envs/aptos/lib/python3.6/site-packages/torch/nn/modules/module.py:383(convert)\n",
      "  3522/11    0.011    0.000    2.005    0.182 <frozen importlib._bootstrap>:966(_find_and_load)\n",
      "  3515/11    0.009    0.000    2.005    0.182 <frozen importlib._bootstrap>:936(_find_and_load_unlocked)\n",
      "   2733/8    0.008    0.000    2.004    0.250 <frozen importlib._bootstrap>:651(_load_unlocked)\n",
      "   2530/8    0.004    0.000    2.003    0.250 <frozen importlib._bootstrap_external>:672(exec_module)\n",
      "  4280/12    0.001    0.000    2.003    0.167 <frozen importlib._bootstrap>:211(_call_with_frames_removed)\n",
      "       15    0.000    0.000    1.855    0.124 /home/khornlund/bb/kaggle/aptos/aptos/model/loss.py:15(l1_loss)\n",
      "       15    0.000    0.000    1.855    0.124 /home/khornlund/.conda/envs/aptos/lib/python3.6/site-packages/torch/nn/functional.py:2209(l1_loss)\n",
      "       15    1.854    0.124    1.854    0.124 {built-in method torch._C._nn.l1_loss}\n",
      " 1717/232    0.003    0.000    1.683    0.007 {built-in method builtins.__import__}\n",
      "\n",
      "\n"
     ]
    },
    {
     "data": {
      "text/plain": [
       "<pstats.Stats at 0x7fa2e23c7f98>"
      ]
     },
     "execution_count": 9,
     "metadata": {},
     "output_type": "execute_result"
    }
   ],
   "source": [
    "p = pstats.Stats('../profile-viz2.txt')\n",
    "p.sort_stats('cumulative').print_stats(30)"
   ]
  },
  {
   "cell_type": "code",
   "execution_count": null,
   "metadata": {},
   "outputs": [],
   "source": []
  }
 ],
 "metadata": {
  "kernelspec": {
   "display_name": "Python 3",
   "language": "python",
   "name": "python3"
  },
  "language_info": {
   "codemirror_mode": {
    "name": "ipython",
    "version": 3
   },
   "file_extension": ".py",
   "mimetype": "text/x-python",
   "name": "python",
   "nbconvert_exporter": "python",
   "pygments_lexer": "ipython3",
   "version": "3.6.7"
  }
 },
 "nbformat": 4,
 "nbformat_minor": 2
}
